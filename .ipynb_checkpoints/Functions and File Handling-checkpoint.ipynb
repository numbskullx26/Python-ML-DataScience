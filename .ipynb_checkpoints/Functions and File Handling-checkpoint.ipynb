{
 "cells": [
  {
   "cell_type": "code",
   "execution_count": 1,
   "id": "a2b277cf",
   "metadata": {},
   "outputs": [
    {
     "name": "stdout",
     "output_type": "stream",
     "text": [
      "Enter a number to check 20\n",
      "20 not prime\n"
     ]
    }
   ],
   "source": [
    "# checking if a number is prime or not \n",
    "num = int(input(\"Enter a number to check \"))\n",
    "res = True \n",
    "for i in range(2,num):\n",
    "    if(num%i==0):\n",
    "        res = False\n",
    "        break\n",
    "if res:\n",
    "    print(num , \"is prime\")\n",
    "else:\n",
    "    print(num, \"not prime\")\n",
    "\n",
    "        \n",
    "        "
   ]
  },
  {
   "cell_type": "code",
   "execution_count": 1,
   "id": "457eee0f",
   "metadata": {},
   "outputs": [
    {
     "name": "stdout",
     "output_type": "stream",
     "text": [
      "Result is: 10\n"
     ]
    }
   ],
   "source": [
    "def func1(x,y):\n",
    "    return x+y\n",
    "res = func1(5,5)\n",
    "print(\"Result is:\" , res)"
   ]
  },
  {
   "cell_type": "markdown",
   "id": "89e0bc4c",
   "metadata": {},
   "source": [
    "# Lambda Functions"
   ]
  },
  {
   "cell_type": "code",
   "execution_count": 2,
   "id": "925db598",
   "metadata": {},
   "outputs": [],
   "source": [
    "add = lambda a,b:a+b\n"
   ]
  },
  {
   "cell_type": "code",
   "execution_count": 3,
   "id": "d4d7917b",
   "metadata": {},
   "outputs": [
    {
     "name": "stdout",
     "output_type": "stream",
     "text": [
      "10\n"
     ]
    }
   ],
   "source": [
    "res = add(5,5)\n",
    "print(res)"
   ]
  },
  {
   "cell_type": "markdown",
   "id": "ae5e1d24",
   "metadata": {},
   "source": [
    "# Filter Function"
   ]
  },
  {
   "cell_type": "raw",
   "id": "f1e9f766",
   "metadata": {},
   "source": [
    "Syntax : filter(function,iterable)"
   ]
  },
  {
   "cell_type": "code",
   "execution_count": 5,
   "id": "7c10b1b3",
   "metadata": {},
   "outputs": [
    {
     "data": {
      "text/plain": [
       "<filter at 0x20681a241c0>"
      ]
     },
     "execution_count": 5,
     "metadata": {},
     "output_type": "execute_result"
    }
   ],
   "source": [
    "list_1 = [1,2,3,4,5,6,7,8,9,10]\n",
    "filter(lambda x:x%2 == 0, list_1)"
   ]
  },
  {
   "cell_type": "code",
   "execution_count": 6,
   "id": "c767f9f5",
   "metadata": {},
   "outputs": [
    {
     "data": {
      "text/plain": [
       "[2, 4, 6, 8, 10]"
      ]
     },
     "execution_count": 6,
     "metadata": {},
     "output_type": "execute_result"
    }
   ],
   "source": [
    "list(filter(lambda x:x%2==0,list_1))"
   ]
  },
  {
   "cell_type": "markdown",
   "id": "6fb12117",
   "metadata": {},
   "source": [
    "# Map Functions"
   ]
  },
  {
   "cell_type": "markdown",
   "id": "c1c133ab",
   "metadata": {},
   "source": [
    "Syntax : map(function,iterator)"
   ]
  },
  {
   "cell_type": "code",
   "execution_count": 8,
   "id": "2575f55c",
   "metadata": {},
   "outputs": [],
   "source": [
    "list_1 = [1,2,3,4,5,6,7,8,9,10]"
   ]
  },
  {
   "cell_type": "code",
   "execution_count": 9,
   "id": "950b635c",
   "metadata": {},
   "outputs": [
    {
     "data": {
      "text/plain": [
       "<map at 0x20682b55c10>"
      ]
     },
     "execution_count": 9,
     "metadata": {},
     "output_type": "execute_result"
    }
   ],
   "source": [
    "map(lambda x:x**2,list_1)"
   ]
  },
  {
   "cell_type": "code",
   "execution_count": 10,
   "id": "491f2b5f",
   "metadata": {},
   "outputs": [
    {
     "data": {
      "text/plain": [
       "[1, 4, 9, 16, 25, 36, 49, 64, 81, 100]"
      ]
     },
     "execution_count": 10,
     "metadata": {},
     "output_type": "execute_result"
    }
   ],
   "source": [
    "#Converting to List\n",
    "list(map(lambda x:x**2,list_1))"
   ]
  },
  {
   "cell_type": "markdown",
   "id": "d78bf4fe",
   "metadata": {},
   "source": [
    "# List Comphrehension"
   ]
  },
  {
   "cell_type": "code",
   "execution_count": 12,
   "id": "304d147e",
   "metadata": {},
   "outputs": [
    {
     "name": "stdout",
     "output_type": "stream",
     "text": [
      "[1, 4, 9, 16, 25, 36, 49, 64, 81]\n"
     ]
    }
   ],
   "source": [
    "l1=[]\n",
    "for i in range(1,10):\n",
    "    l1.append(i**2)\n",
    "print(l1)"
   ]
  },
  {
   "cell_type": "code",
   "execution_count": 13,
   "id": "7f87c69d",
   "metadata": {},
   "outputs": [],
   "source": [
    "#The above lines of code can be written in one line of code using List Comphrehension Format\n"
   ]
  },
  {
   "cell_type": "code",
   "execution_count": 14,
   "id": "2e0b5035",
   "metadata": {},
   "outputs": [
    {
     "data": {
      "text/plain": [
       "[1, 4, 9, 16, 25, 36, 49, 64, 81]"
      ]
     },
     "execution_count": 14,
     "metadata": {},
     "output_type": "execute_result"
    }
   ],
   "source": [
    "[i**2 for i in range(1,10)]"
   ]
  },
  {
   "cell_type": "code",
   "execution_count": 15,
   "id": "76a748e5",
   "metadata": {},
   "outputs": [
    {
     "data": {
      "text/plain": [
       "[2, 4, 6, 8, 10, 12, 14, 16, 18]"
      ]
     },
     "execution_count": 15,
     "metadata": {},
     "output_type": "execute_result"
    }
   ],
   "source": [
    "[num*2 for num in range(1,10)]"
   ]
  },
  {
   "cell_type": "code",
   "execution_count": 16,
   "id": "ab270314",
   "metadata": {},
   "outputs": [
    {
     "data": {
      "text/plain": [
       "[1, 2, 3, 4, 5, 6, 7, 8, 9, 10]"
      ]
     },
     "execution_count": 16,
     "metadata": {},
     "output_type": "execute_result"
    }
   ],
   "source": [
    "list_1\n"
   ]
  },
  {
   "cell_type": "code",
   "execution_count": 17,
   "id": "9da6f23e",
   "metadata": {},
   "outputs": [
    {
     "data": {
      "text/plain": [
       "[4, 16, 36, 64]"
      ]
     },
     "execution_count": 17,
     "metadata": {},
     "output_type": "execute_result"
    }
   ],
   "source": [
    "[num**2 for num in range(1,10) if num%2==0 ] \n",
    "#If the number is divisible by 2, then it will be squared and printed out"
   ]
  },
  {
   "cell_type": "markdown",
   "id": "b1b5b591",
   "metadata": {},
   "source": [
    "# Dictionary Comphrehension"
   ]
  },
  {
   "cell_type": "raw",
   "id": "54267c2b",
   "metadata": {},
   "source": [
    "Syntax :-\n",
    "    {key_expression : value_expression for expression in iterable}\n",
    "    "
   ]
  },
  {
   "cell_type": "code",
   "execution_count": 19,
   "id": "01ed60ec",
   "metadata": {},
   "outputs": [
    {
     "data": {
      "text/plain": [
       "{1: 1, 2: 4, 3: 9, 4: 16, 5: 25, 6: 36, 7: 49, 8: 64, 9: 81}"
      ]
     },
     "execution_count": 19,
     "metadata": {},
     "output_type": "execute_result"
    }
   ],
   "source": [
    "{i:i**2 for i in range(1,10)}"
   ]
  },
  {
   "cell_type": "code",
   "execution_count": 21,
   "id": "777544b1",
   "metadata": {},
   "outputs": [
    {
     "data": {
      "text/plain": [
       "{1: 1, 2: 4, 3: 9, 4: 16, 5: 25, 6: 36, 7: 49, 8: 64, 9: 81, 10: 100}"
      ]
     },
     "execution_count": 21,
     "metadata": {},
     "output_type": "execute_result"
    }
   ],
   "source": [
    "{num:num**2 for num in list_1}"
   ]
  },
  {
   "cell_type": "code",
   "execution_count": 22,
   "id": "a28665ef",
   "metadata": {},
   "outputs": [
    {
     "data": {
      "text/plain": [
       "['i', 'n', 'd', 'r', 'a', 'j', 'e', 'e', 't']"
      ]
     },
     "execution_count": 22,
     "metadata": {},
     "output_type": "execute_result"
    }
   ],
   "source": [
    "string = list(\"indrajeet\")\n",
    "string\n"
   ]
  },
  {
   "cell_type": "code",
   "execution_count": 23,
   "id": "17ad837b",
   "metadata": {},
   "outputs": [
    {
     "data": {
      "text/plain": [
       "[1, 2, 3, 4, 5, 6, 7, 8, 9, 10]"
      ]
     },
     "execution_count": 23,
     "metadata": {},
     "output_type": "execute_result"
    }
   ],
   "source": [
    "list_1\n"
   ]
  },
  {
   "cell_type": "code",
   "execution_count": 24,
   "id": "56054f44",
   "metadata": {},
   "outputs": [
    {
     "name": "stdout",
     "output_type": "stream",
     "text": [
      "i and 1\n",
      "n and 2\n",
      "d and 3\n",
      "r and 4\n",
      "a and 5\n",
      "j and 6\n",
      "e and 7\n",
      "e and 8\n",
      "t and 9\n"
     ]
    }
   ],
   "source": [
    "#zip function\n",
    "for x,y in zip(string,list_1):\n",
    "    print(f\"{x} and {y}\")"
   ]
  },
  {
   "cell_type": "code",
   "execution_count": 26,
   "id": "d365e6d4",
   "metadata": {},
   "outputs": [
    {
     "data": {
      "text/plain": [
       "{'i': 1, 'n': 4, 'd': 9, 'r': 16, 'a': 25, 'j': 36, 'e': 64, 't': 81}"
      ]
     },
     "execution_count": 26,
     "metadata": {},
     "output_type": "execute_result"
    }
   ],
   "source": [
    "{x:y**2 for x,y in zip(string,list_1)}"
   ]
  },
  {
   "cell_type": "markdown",
   "id": "40c9fa49",
   "metadata": {},
   "source": [
    "# WORKING WITH FILES"
   ]
  },
  {
   "cell_type": "code",
   "execution_count": 1,
   "id": "0f3a16ec",
   "metadata": {},
   "outputs": [],
   "source": [
    "lorem = '''My name is Indrajeet Sarkar. \n",
    "Hey this is me. \n",
    "I am learning this course of Data Science provided to me by skillvoid '''"
   ]
  },
  {
   "cell_type": "code",
   "execution_count": 8,
   "id": "7b185596",
   "metadata": {},
   "outputs": [],
   "source": [
    "fileobj = open(\"example.txt\",\"wt\")\n",
    "fileobj.write(lorem)\n",
    "fileobj.close()"
   ]
  },
  {
   "cell_type": "code",
   "execution_count": 9,
   "id": "aa67b5ed",
   "metadata": {},
   "outputs": [
    {
     "name": "stdout",
     "output_type": "stream",
     "text": [
      "My name is Indrajeet Sarkar. Hey this is me. I am learning this course of Data Science provided to me by skillvoid \n"
     ]
    }
   ],
   "source": [
    "fileobj = open(\"example.txt\",\"rt\")\n",
    "print(fileobj.readline())\n",
    "fileobj.close()"
   ]
  },
  {
   "cell_type": "code",
   "execution_count": 7,
   "id": "8250c97f",
   "metadata": {},
   "outputs": [
    {
     "name": "stdout",
     "output_type": "stream",
     "text": [
      "My name is Indrajeet Sarkar. Hey this is\n"
     ]
    }
   ],
   "source": [
    "fileobj = open(\"example.txt\",\"rt\")\n",
    "print(fileobj.readline(40))\n",
    "fileobj.close()"
   ]
  },
  {
   "cell_type": "code",
   "execution_count": 6,
   "id": "4a3c81e5",
   "metadata": {},
   "outputs": [
    {
     "name": "stdout",
     "output_type": "stream",
     "text": [
      "['My name is Indrajeet Sarkar. Hey this is me. I am learning this course of Data Science provided to me by skillvoid ']\n"
     ]
    }
   ],
   "source": [
    "fileobj = open(\"example.txt\",\"rt\")\n",
    "print(fileobj.readlines())\n",
    "fileobj.close()"
   ]
  },
  {
   "cell_type": "code",
   "execution_count": 10,
   "id": "f0f492c4",
   "metadata": {},
   "outputs": [
    {
     "data": {
      "text/plain": [
       "256"
      ]
     },
     "execution_count": 10,
     "metadata": {},
     "output_type": "execute_result"
    }
   ],
   "source": [
    "#creating a binary data file \n",
    "bfile = bytes(range(0,256))\n",
    "len(bfile)"
   ]
  },
  {
   "cell_type": "code",
   "execution_count": 11,
   "id": "9bea0059",
   "metadata": {},
   "outputs": [],
   "source": [
    "file1 = open(\"example1\",\"wb\") #writing the above created binary file in example1.txt\n",
    "file1.write(bfile)\n",
    "file1.close()"
   ]
  },
  {
   "cell_type": "code",
   "execution_count": 14,
   "id": "e96acb08",
   "metadata": {},
   "outputs": [
    {
     "name": "stdout",
     "output_type": "stream",
     "text": [
      "[b'\\x00\\x01\\x02\\x03\\x04\\x05\\x06\\x07\\x08\\t\\n', b'\\x0b\\x0c\\r\\x0e\\x0f\\x10\\x11\\x12\\x13\\x14\\x15\\x16\\x17\\x18\\x19\\x1a\\x1b\\x1c\\x1d\\x1e\\x1f !\"#$%&\\'()*+,-./0123456789:;<=>?@ABCDEFGHIJKLMNOPQRSTUVWXYZ[\\\\]^_`abcdefghijklmnopqrstuvwxyz{|}~\\x7f\\x80\\x81\\x82\\x83\\x84\\x85\\x86\\x87\\x88\\x89\\x8a\\x8b\\x8c\\x8d\\x8e\\x8f\\x90\\x91\\x92\\x93\\x94\\x95\\x96\\x97\\x98\\x99\\x9a\\x9b\\x9c\\x9d\\x9e\\x9f\\xa0\\xa1\\xa2\\xa3\\xa4\\xa5\\xa6\\xa7\\xa8\\xa9\\xaa\\xab\\xac\\xad\\xae\\xaf\\xb0\\xb1\\xb2\\xb3\\xb4\\xb5\\xb6\\xb7\\xb8\\xb9\\xba\\xbb\\xbc\\xbd\\xbe\\xbf\\xc0\\xc1\\xc2\\xc3\\xc4\\xc5\\xc6\\xc7\\xc8\\xc9\\xca\\xcb\\xcc\\xcd\\xce\\xcf\\xd0\\xd1\\xd2\\xd3\\xd4\\xd5\\xd6\\xd7\\xd8\\xd9\\xda\\xdb\\xdc\\xdd\\xde\\xdf\\xe0\\xe1\\xe2\\xe3\\xe4\\xe5\\xe6\\xe7\\xe8\\xe9\\xea\\xeb\\xec\\xed\\xee\\xef\\xf0\\xf1\\xf2\\xf3\\xf4\\xf5\\xf6\\xf7\\xf8\\xf9\\xfa\\xfb\\xfc\\xfd\\xfe\\xff']\n"
     ]
    }
   ],
   "source": [
    "file1 = open(\"example1\",\"rb\") #reading all the lines of the example1.txt file\n",
    "#.readline(): reads just one line\n",
    "#.readlines() : reads all the lines of the file \n",
    "print(file1.readlines())\n",
    "file1.close()"
   ]
  },
  {
   "cell_type": "markdown",
   "id": "e494e6ba",
   "metadata": {},
   "source": [
    "# Another way of Writing and reading files"
   ]
  },
  {
   "cell_type": "code",
   "execution_count": 18,
   "id": "ca472d0e",
   "metadata": {},
   "outputs": [],
   "source": [
    "with open(\"example2.txt\",\"wt\") as skillvoid:\n",
    "    skillvoid.write(lorem)"
   ]
  },
  {
   "cell_type": "code",
   "execution_count": 19,
   "id": "68085f13",
   "metadata": {},
   "outputs": [
    {
     "name": "stdout",
     "output_type": "stream",
     "text": [
      "['My name is Indrajeet Sarkar. Hey this is me. I am learning this course of Data Science provided to me by skillvoid ']\n"
     ]
    }
   ],
   "source": [
    "with open(\"example2.txt\",\"rt\") as skillvoid:\n",
    "    print(skillvoid.readlines())"
   ]
  },
  {
   "cell_type": "code",
   "execution_count": 23,
   "id": "e4fd8d9c",
   "metadata": {},
   "outputs": [
    {
     "name": "stdout",
     "output_type": "stream",
     "text": [
      "['My name is Indrajeet Sarkar. Hey this is me. I am learning this course of Data Science provided to me by skillvoid ']\n"
     ]
    }
   ],
   "source": [
    "with open(\"example2.txt\",\"rt\") as skillvoid:\n",
    "    print(skillvoid.readlines(0))"
   ]
  },
  {
   "cell_type": "code",
   "execution_count": null,
   "id": "f8e8d625",
   "metadata": {},
   "outputs": [],
   "source": []
  }
 ],
 "metadata": {
  "kernelspec": {
   "display_name": "Python 3 (ipykernel)",
   "language": "python",
   "name": "python3"
  },
  "language_info": {
   "codemirror_mode": {
    "name": "ipython",
    "version": 3
   },
   "file_extension": ".py",
   "mimetype": "text/x-python",
   "name": "python",
   "nbconvert_exporter": "python",
   "pygments_lexer": "ipython3",
   "version": "3.9.12"
  }
 },
 "nbformat": 4,
 "nbformat_minor": 5
}
