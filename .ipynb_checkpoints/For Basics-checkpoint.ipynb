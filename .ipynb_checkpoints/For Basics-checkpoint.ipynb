{
 "cells": [
  {
   "cell_type": "markdown",
   "id": "917efa86",
   "metadata": {},
   "source": [
    "# Data Types\n"
   ]
  },
  {
   "cell_type": "code",
   "execution_count": 1,
   "id": "78e65465",
   "metadata": {},
   "outputs": [
    {
     "name": "stdout",
     "output_type": "stream",
     "text": [
      "hello World\n"
     ]
    }
   ],
   "source": [
    "print(\"hello World\")#string\n"
   ]
  },
  {
   "cell_type": "code",
   "execution_count": null,
   "id": "0d767d62",
   "metadata": {},
   "outputs": [],
   "source": [
    "# 1, 23, Int(interger)\n",
    "# 1,23, 244(float)\n"
   ]
  },
  {
   "cell_type": "code",
   "execution_count": 2,
   "id": "8483b0d6",
   "metadata": {},
   "outputs": [
    {
     "name": "stdout",
     "output_type": "stream",
     "text": [
      "100\n"
     ]
    }
   ],
   "source": [
    "variable1 = 100\n",
    "print(variable1)\n"
   ]
  },
  {
   "cell_type": "code",
   "execution_count": 6,
   "id": "8f4a04af",
   "metadata": {},
   "outputs": [
    {
     "name": "stdout",
     "output_type": "stream",
     "text": [
      "15\n"
     ]
    }
   ],
   "source": [
    "variable1 = 15\n",
    "print(variable1)"
   ]
  },
  {
   "cell_type": "code",
   "execution_count": 3,
   "id": "a337f48e",
   "metadata": {},
   "outputs": [
    {
     "name": "stdout",
     "output_type": "stream",
     "text": [
      "10\n"
     ]
    }
   ],
   "source": [
    "indra = 10 #no need to specify the datatype in declaration\n",
    "print(indra)\n"
   ]
  },
  {
   "cell_type": "code",
   "execution_count": 10,
   "id": "012762ce",
   "metadata": {},
   "outputs": [
    {
     "name": "stdout",
     "output_type": "stream",
     "text": [
      "500\n"
     ]
    }
   ],
   "source": [
    "print(500)"
   ]
  },
  {
   "cell_type": "code",
   "execution_count": 11,
   "id": "53179939",
   "metadata": {},
   "outputs": [
    {
     "name": "stdout",
     "output_type": "stream",
     "text": [
      "15\n"
     ]
    }
   ],
   "source": [
    "print(variable1) #Python will always show us the updated value"
   ]
  },
  {
   "cell_type": "code",
   "execution_count": 12,
   "id": "16b61286",
   "metadata": {},
   "outputs": [],
   "source": [
    "variable2 = 100 #integer\n",
    "variable3 = \"Python\" #string"
   ]
  },
  {
   "cell_type": "code",
   "execution_count": 13,
   "id": "ef9e23bc",
   "metadata": {},
   "outputs": [
    {
     "name": "stdout",
     "output_type": "stream",
     "text": [
      "15 100 Python\n"
     ]
    }
   ],
   "source": [
    "print(variable1,variable2,variable3)"
   ]
  },
  {
   "cell_type": "code",
   "execution_count": 14,
   "id": "13188fde",
   "metadata": {},
   "outputs": [
    {
     "name": "stdout",
     "output_type": "stream",
     "text": [
      "This is variable 1 ---> 15 This is variable 2---> 100 This is variable3 ---> Python\n"
     ]
    }
   ],
   "source": [
    "print('This is variable 1 --->',variable1,\"This is variable 2--->\",variable2,\"This is variable3 --->\",variable3)"
   ]
  },
  {
   "cell_type": "code",
   "execution_count": 15,
   "id": "a81f7b7f",
   "metadata": {},
   "outputs": [
    {
     "data": {
      "text/plain": [
       "110"
      ]
     },
     "execution_count": 15,
     "metadata": {},
     "output_type": "execute_result"
    }
   ],
   "source": [
    "# Sum of two numbers \n",
    "50+60"
   ]
  },
  {
   "cell_type": "code",
   "execution_count": 16,
   "id": "87fb58d3",
   "metadata": {},
   "outputs": [
    {
     "ename": "TypeError",
     "evalue": "unsupported operand type(s) for +: 'int' and 'str'",
     "output_type": "error",
     "traceback": [
      "\u001b[1;31m---------------------------------------------------------------------------\u001b[0m",
      "\u001b[1;31mTypeError\u001b[0m                                 Traceback (most recent call last)",
      "Input \u001b[1;32mIn [16]\u001b[0m, in \u001b[0;36m<cell line: 2>\u001b[1;34m()\u001b[0m\n\u001b[0;32m      1\u001b[0m \u001b[38;5;66;03m# We can sum only the same datatype \u001b[39;00m\n\u001b[1;32m----> 2\u001b[0m \u001b[38;5;241;43m100\u001b[39;49m\u001b[43m \u001b[49m\u001b[38;5;241;43m+\u001b[39;49m\u001b[43m \u001b[49m\u001b[38;5;124;43m\"\u001b[39;49m\u001b[38;5;124;43mindra\u001b[39;49m\u001b[38;5;124;43m\"\u001b[39;49m\n",
      "\u001b[1;31mTypeError\u001b[0m: unsupported operand type(s) for +: 'int' and 'str'"
     ]
    }
   ],
   "source": [
    "# We can sum only the same datatype \n",
    "100 + \"indra\""
   ]
  },
  {
   "cell_type": "code",
   "execution_count": 17,
   "id": "31dca28f",
   "metadata": {},
   "outputs": [
    {
     "name": "stdout",
     "output_type": "stream",
     "text": [
      "30\n",
      "200\n"
     ]
    }
   ],
   "source": [
    "a=10\n",
    "b=20\n",
    "print(a+b)\n",
    "print(a*b)#multiply"
   ]
  },
  {
   "cell_type": "raw",
   "id": "4741f28f",
   "metadata": {},
   "source": [
    "# Accepting User Inputs\n",
    "\n",
    "Input() : Accepts input and stores it as a string.If the user inputs an integer, the code should convert the inteher to string and then proceed."
   ]
  },
  {
   "cell_type": "code",
   "execution_count": 21,
   "id": "bfbfbd76",
   "metadata": {},
   "outputs": [
    {
     "name": "stdout",
     "output_type": "stream",
     "text": [
      "Enter a number \t5\n",
      "5\n"
     ]
    }
   ],
   "source": [
    "num1= input(\"Enter a number \\t\")\n",
    "print(num1)"
   ]
  },
  {
   "cell_type": "code",
   "execution_count": 24,
   "id": "cdc044e5",
   "metadata": {},
   "outputs": [
    {
     "ename": "TypeError",
     "evalue": "can only concatenate str (not \"int\") to str",
     "output_type": "error",
     "traceback": [
      "\u001b[1;31m---------------------------------------------------------------------------\u001b[0m",
      "\u001b[1;31mTypeError\u001b[0m                                 Traceback (most recent call last)",
      "Input \u001b[1;32mIn [24]\u001b[0m, in \u001b[0;36m<cell line: 1>\u001b[1;34m()\u001b[0m\n\u001b[1;32m----> 1\u001b[0m \u001b[38;5;28mprint\u001b[39m(\u001b[43mnum1\u001b[49m\u001b[38;5;241;43m+\u001b[39;49m\u001b[38;5;241;43m10\u001b[39;49m)\n",
      "\u001b[1;31mTypeError\u001b[0m: can only concatenate str (not \"int\") to str"
     ]
    }
   ],
   "source": [
    "print(num1+10) #here num1 is by default of type string which cannot be added to an integer "
   ]
  },
  {
   "cell_type": "code",
   "execution_count": 29,
   "id": "9e43c5a2",
   "metadata": {},
   "outputs": [
    {
     "name": "stdout",
     "output_type": "stream",
     "text": [
      "15\n"
     ]
    }
   ],
   "source": [
    "num1 = int(num1)\n",
    "print(num1 + 10)"
   ]
  },
  {
   "cell_type": "code",
   "execution_count": 31,
   "id": "80d647b8",
   "metadata": {},
   "outputs": [
    {
     "name": "stdout",
     "output_type": "stream",
     "text": [
      "Enter 1st number \t20\n",
      "Enter 2nd number\t30\n",
      "The sum of 20 and 30 is 50\n"
     ]
    }
   ],
   "source": [
    "a = int(input(\"Enter 1st number \\t\"))\n",
    "b = int(input(\"Enter 2nd number\\t\")) \n",
    "sum = a + b\n",
    "print(\"The sum of {0} and {1} is {2}\" .format(a,b,sum)) #or simply : print(a,b,sum)"
   ]
  },
  {
   "cell_type": "markdown",
   "id": "36be510a",
   "metadata": {},
   "source": [
    "# Literals "
   ]
  },
  {
   "cell_type": "code",
   "execution_count": 1,
   "id": "594a6f2a",
   "metadata": {},
   "outputs": [
    {
     "name": "stdout",
     "output_type": "stream",
     "text": [
      "<class 'int'> <class 'float'> <class 'complex'> <class 'str'> <class 'bool'> <class 'bool'>\n"
     ]
    }
   ],
   "source": [
    "a = 10 #integer(without decimal points)\n",
    "b = 10.56 #floating point numbers\n",
    "c = 5+6j #complex numbers\n",
    "d = \"hello\" #string\n",
    "e = True #boolean\n",
    "f = False #boolean\n",
    "print(type(a),type(b),type(c),type(d),type(e),type(f)) #will give us the datatype of each of the variables\n"
   ]
  },
  {
   "cell_type": "code",
   "execution_count": 5,
   "id": "f683b9ed",
   "metadata": {},
   "outputs": [
    {
     "data": {
      "text/plain": [
       "['False',\n",
       " 'None',\n",
       " 'True',\n",
       " '__peg_parser__',\n",
       " 'and',\n",
       " 'as',\n",
       " 'assert',\n",
       " 'async',\n",
       " 'await',\n",
       " 'break',\n",
       " 'class',\n",
       " 'continue',\n",
       " 'def',\n",
       " 'del',\n",
       " 'elif',\n",
       " 'else',\n",
       " 'except',\n",
       " 'finally',\n",
       " 'for',\n",
       " 'from',\n",
       " 'global',\n",
       " 'if',\n",
       " 'import',\n",
       " 'in',\n",
       " 'is',\n",
       " 'lambda',\n",
       " 'nonlocal',\n",
       " 'not',\n",
       " 'or',\n",
       " 'pass',\n",
       " 'raise',\n",
       " 'return',\n",
       " 'try',\n",
       " 'while',\n",
       " 'with',\n",
       " 'yield']"
      ]
     },
     "execution_count": 5,
     "metadata": {},
     "output_type": "execute_result"
    }
   ],
   "source": [
    "import keyword\n",
    "keyword.kwlist"
   ]
  },
  {
   "cell_type": "code",
   "execution_count": 9,
   "id": "4d9f940c",
   "metadata": {},
   "outputs": [
    {
     "data": {
      "text/plain": [
       "36"
      ]
     },
     "execution_count": 9,
     "metadata": {},
     "output_type": "execute_result"
    }
   ],
   "source": [
    "len(keyword.kwlist)"
   ]
  },
  {
   "cell_type": "markdown",
   "id": "2d377180",
   "metadata": {},
   "source": [
    "# Arithmetic Operators"
   ]
  },
  {
   "cell_type": "code",
   "execution_count": 12,
   "id": "62445d54",
   "metadata": {},
   "outputs": [
    {
     "data": {
      "text/plain": [
       "6"
      ]
     },
     "execution_count": 12,
     "metadata": {},
     "output_type": "execute_result"
    }
   ],
   "source": [
    "2 + 4 #addition operator : only two operands of the same datatype can be added"
   ]
  },
  {
   "cell_type": "code",
   "execution_count": 14,
   "id": "655ec0ff",
   "metadata": {},
   "outputs": [
    {
     "data": {
      "text/plain": [
       "2.0"
      ]
     },
     "execution_count": 14,
     "metadata": {},
     "output_type": "execute_result"
    }
   ],
   "source": [
    "4/2 #floating point division. returns a floating type value"
   ]
  },
  {
   "cell_type": "code",
   "execution_count": 16,
   "id": "4fc8fdf6",
   "metadata": {},
   "outputs": [
    {
     "data": {
      "text/plain": [
       "33.333333333333336"
      ]
     },
     "execution_count": 16,
     "metadata": {},
     "output_type": "execute_result"
    }
   ],
   "source": [
    "100/3"
   ]
  },
  {
   "cell_type": "code",
   "execution_count": 18,
   "id": "0b50f2f6",
   "metadata": {},
   "outputs": [
    {
     "data": {
      "text/plain": [
       "2"
      ]
     },
     "execution_count": 18,
     "metadata": {},
     "output_type": "execute_result"
    }
   ],
   "source": [
    "4//2 #integer division : returns an integer value. Also known as Floor division"
   ]
  },
  {
   "cell_type": "code",
   "execution_count": 20,
   "id": "f35a16db",
   "metadata": {},
   "outputs": [
    {
     "data": {
      "text/plain": [
       "33"
      ]
     },
     "execution_count": 20,
     "metadata": {},
     "output_type": "execute_result"
    }
   ],
   "source": [
    "100//3"
   ]
  },
  {
   "cell_type": "code",
   "execution_count": 22,
   "id": "fe6b8adf",
   "metadata": {},
   "outputs": [
    {
     "data": {
      "text/plain": [
       "1"
      ]
     },
     "execution_count": 22,
     "metadata": {},
     "output_type": "execute_result"
    }
   ],
   "source": [
    "100%3 #Modulus operator: returns the remainder of the division"
   ]
  },
  {
   "cell_type": "code",
   "execution_count": 24,
   "id": "535b7598",
   "metadata": {},
   "outputs": [
    {
     "data": {
      "text/plain": [
       "1"
      ]
     },
     "execution_count": 24,
     "metadata": {},
     "output_type": "execute_result"
    }
   ],
   "source": [
    "var = 100\n",
    "var%3"
   ]
  },
  {
   "cell_type": "code",
   "execution_count": 26,
   "id": "825f76b8",
   "metadata": {},
   "outputs": [
    {
     "data": {
      "text/plain": [
       "-100"
      ]
     },
     "execution_count": 26,
     "metadata": {},
     "output_type": "execute_result"
    }
   ],
   "source": [
    "-var #negation opeartor"
   ]
  },
  {
   "cell_type": "code",
   "execution_count": 28,
   "id": "918c6ad4",
   "metadata": {},
   "outputs": [
    {
     "data": {
      "text/plain": [
       "(333, 333.6666666666667, 10)"
      ]
     },
     "execution_count": 28,
     "metadata": {},
     "output_type": "execute_result"
    }
   ],
   "source": [
    "1001 // 3, 1001/3,2*5 #we can perform various operations on the same line "
   ]
  },
  {
   "cell_type": "raw",
   "id": "3224a56d",
   "metadata": {},
   "source": [
    "round() : it is used to roundoff a floating point number to the nearest decimal place"
   ]
  },
  {
   "cell_type": "code",
   "execution_count": 30,
   "id": "8023dd36",
   "metadata": {},
   "outputs": [
    {
     "name": "stdout",
     "output_type": "stream",
     "text": [
      "114\n"
     ]
    }
   ],
   "source": [
    "print(round(113.57676867))"
   ]
  },
  {
   "cell_type": "code",
   "execution_count": 32,
   "id": "37753a91",
   "metadata": {},
   "outputs": [
    {
     "name": "stdout",
     "output_type": "stream",
     "text": [
      "113.577\n"
     ]
    }
   ],
   "source": [
    "print(round(113.5768767,3)) #upto 3 decimal places"
   ]
  },
  {
   "cell_type": "code",
   "execution_count": 35,
   "id": "e18e3328",
   "metadata": {},
   "outputs": [
    {
     "name": "stdout",
     "output_type": "stream",
     "text": [
      "<class 'complex'>\n",
      "15.132745950421556\n"
     ]
    }
   ],
   "source": [
    "c=15+2j\n",
    "print(type(c))\n",
    "print(abs(c))\n",
    "#you can't use the round() function for a complex number"
   ]
  },
  {
   "cell_type": "raw",
   "id": "e7fc7d8e",
   "metadata": {},
   "source": [
    "divmod():returns the quotient and remainder of a division operation"
   ]
  },
  {
   "cell_type": "code",
   "execution_count": 38,
   "id": "77e95aa7",
   "metadata": {},
   "outputs": [
    {
     "data": {
      "text/plain": [
       "(4, 1)"
      ]
     },
     "execution_count": 38,
     "metadata": {},
     "output_type": "execute_result"
    }
   ],
   "source": [
    "divmod(9,2)"
   ]
  },
  {
   "cell_type": "code",
   "execution_count": 40,
   "id": "fdcf3ef8",
   "metadata": {},
   "outputs": [
    {
     "name": "stdout",
     "output_type": "stream",
     "text": [
      "(4, 1)\n"
     ]
    }
   ],
   "source": [
    "print(divmod(9,2))"
   ]
  },
  {
   "cell_type": "raw",
   "id": "3b13b3ae",
   "metadata": {},
   "source": [
    "pow() : is used to find the power"
   ]
  },
  {
   "cell_type": "code",
   "execution_count": 42,
   "id": "513b26b8",
   "metadata": {},
   "outputs": [
    {
     "data": {
      "text/plain": [
       "8"
      ]
     },
     "execution_count": 42,
     "metadata": {},
     "output_type": "execute_result"
    }
   ],
   "source": [
    "pow(2,3)"
   ]
  },
  {
   "cell_type": "code",
   "execution_count": 44,
   "id": "3a0bad95",
   "metadata": {},
   "outputs": [
    {
     "name": "stdout",
     "output_type": "stream",
     "text": [
      "8\n"
     ]
    }
   ],
   "source": [
    "print(pow(2,3))"
   ]
  },
  {
   "cell_type": "code",
   "execution_count": 46,
   "id": "b2e5bfae",
   "metadata": {},
   "outputs": [
    {
     "data": {
      "text/plain": [
       "8"
      ]
     },
     "execution_count": 46,
     "metadata": {},
     "output_type": "execute_result"
    }
   ],
   "source": [
    "2**3"
   ]
  },
  {
   "cell_type": "code",
   "execution_count": 48,
   "id": "f40e6b67",
   "metadata": {},
   "outputs": [
    {
     "name": "stdout",
     "output_type": "stream",
     "text": [
      "2\n"
     ]
    }
   ],
   "source": [
    "print(pow(3,3,5))"
   ]
  },
  {
   "cell_type": "markdown",
   "id": "d3417f4a",
   "metadata": {},
   "source": [
    "\n",
    "# Conditional Operators\n"
   ]
  },
  {
   "cell_type": "code",
   "execution_count": 52,
   "id": "e0879a92",
   "metadata": {},
   "outputs": [
    {
     "data": {
      "text/plain": [
       "True"
      ]
     },
     "execution_count": 52,
     "metadata": {},
     "output_type": "execute_result"
    }
   ],
   "source": [
    "50 !=2 # In Pyhton we can directly check if a condition is true or not. It will return a boolean value as result"
   ]
  },
  {
   "cell_type": "code",
   "execution_count": 54,
   "id": "aeb745d9",
   "metadata": {},
   "outputs": [
    {
     "data": {
      "text/plain": [
       "False"
      ]
     },
     "execution_count": 54,
     "metadata": {},
     "output_type": "execute_result"
    }
   ],
   "source": [
    "4 == 2"
   ]
  },
  {
   "cell_type": "code",
   "execution_count": 57,
   "id": "3a588c68",
   "metadata": {},
   "outputs": [
    {
     "data": {
      "text/plain": [
       "(True, False, True, False, True)"
      ]
     },
     "execution_count": 57,
     "metadata": {},
     "output_type": "execute_result"
    }
   ],
   "source": [
    "4>2,5==2,5==5,5!=5,4<=8 # we can even check conditions together in a single line "
   ]
  },
  {
   "cell_type": "raw",
   "id": "cef6b2b7",
   "metadata": {},
   "source": [
    "Chained Conditional Operators"
   ]
  },
  {
   "cell_type": "code",
   "execution_count": 59,
   "id": "c7277a07",
   "metadata": {},
   "outputs": [
    {
     "data": {
      "text/plain": [
       "True"
      ]
     },
     "execution_count": 59,
     "metadata": {},
     "output_type": "execute_result"
    }
   ],
   "source": [
    "1<2<3"
   ]
  },
  {
   "cell_type": "code",
   "execution_count": 61,
   "id": "3324a887",
   "metadata": {},
   "outputs": [
    {
     "data": {
      "text/plain": [
       "False"
      ]
     },
     "execution_count": 61,
     "metadata": {},
     "output_type": "execute_result"
    }
   ],
   "source": [
    "2<4<1\n"
   ]
  },
  {
   "cell_type": "code",
   "execution_count": 62,
   "id": "02fef0fc",
   "metadata": {},
   "outputs": [
    {
     "data": {
      "text/plain": [
       "True"
      ]
     },
     "execution_count": 62,
     "metadata": {},
     "output_type": "execute_result"
    }
   ],
   "source": [
    "1<2 and 2<3 #and will only return true if both the values are true "
   ]
  },
  {
   "cell_type": "code",
   "execution_count": 64,
   "id": "0dcc0051",
   "metadata": {},
   "outputs": [
    {
     "data": {
      "text/plain": [
       "False"
      ]
     },
     "execution_count": 64,
     "metadata": {},
     "output_type": "execute_result"
    }
   ],
   "source": [
    "1<2 and 3<2"
   ]
  },
  {
   "cell_type": "code",
   "execution_count": 65,
   "id": "43adf411",
   "metadata": {},
   "outputs": [
    {
     "data": {
      "text/plain": [
       "True"
      ]
     },
     "execution_count": 65,
     "metadata": {},
     "output_type": "execute_result"
    }
   ],
   "source": [
    "1<2 or 3<2 #or will return true if any of the two values are true "
   ]
  },
  {
   "cell_type": "code",
   "execution_count": 67,
   "id": "7867db6a",
   "metadata": {},
   "outputs": [
    {
     "data": {
      "text/plain": [
       "True"
      ]
     },
     "execution_count": 67,
     "metadata": {},
     "output_type": "execute_result"
    }
   ],
   "source": [
    "# is : returns true if both the values are the same \n",
    "# is not : returns true if both the values are not the same\n",
    "x=10\n",
    "y=10\n",
    "x is y"
   ]
  },
  {
   "cell_type": "code",
   "execution_count": 2,
   "id": "01674288",
   "metadata": {},
   "outputs": [
    {
     "data": {
      "text/plain": [
       "False"
      ]
     },
     "execution_count": 2,
     "metadata": {},
     "output_type": "execute_result"
    }
   ],
   "source": [
    "x=1\n",
    "y=2\n",
    "x is y\n"
   ]
  },
  {
   "cell_type": "code",
   "execution_count": 4,
   "id": "0231b6f7",
   "metadata": {},
   "outputs": [
    {
     "data": {
      "text/plain": [
       "True"
      ]
     },
     "execution_count": 4,
     "metadata": {},
     "output_type": "execute_result"
    }
   ],
   "source": [
    "x is not y"
   ]
  },
  {
   "cell_type": "markdown",
   "id": "4514898e",
   "metadata": {},
   "source": [
    "# Basic Lists and List methods"
   ]
  },
  {
   "cell_type": "code",
   "execution_count": 6,
   "id": "16c3732b",
   "metadata": {},
   "outputs": [
    {
     "name": "stdout",
     "output_type": "stream",
     "text": [
      "[1, 2, 3, 4]\n"
     ]
    }
   ],
   "source": [
    "a = [1,2,3,4]\n",
    "print(a)\n"
   ]
  },
  {
   "cell_type": "code",
   "execution_count": 8,
   "id": "30b51287",
   "metadata": {},
   "outputs": [
    {
     "name": "stdout",
     "output_type": "stream",
     "text": [
      "[1, 2, 3, 4, ['value1_a', 'value2_a', ['value1', 'value2']]]\n"
     ]
    }
   ],
   "source": [
    "a.append([\"value1_a\",\"value2_a\",[\"value1\",\"value2\"]])\n",
    "print(a)"
   ]
  },
  {
   "cell_type": "code",
   "execution_count": 10,
   "id": "3beb63e0",
   "metadata": {},
   "outputs": [
    {
     "data": {
      "text/plain": [
       "['value1_a', 'value2_a', ['value1', 'value2']]"
      ]
     },
     "execution_count": 10,
     "metadata": {},
     "output_type": "execute_result"
    }
   ],
   "source": [
    "a[-1] #navigating the elements in a list "
   ]
  },
  {
   "cell_type": "code",
   "execution_count": 12,
   "id": "d42476fe",
   "metadata": {},
   "outputs": [
    {
     "data": {
      "text/plain": [
       "['value1', 'value2']"
      ]
     },
     "execution_count": 12,
     "metadata": {},
     "output_type": "execute_result"
    }
   ],
   "source": [
    "a[-1][-1]"
   ]
  },
  {
   "cell_type": "code",
   "execution_count": 13,
   "id": "e8a6c025",
   "metadata": {},
   "outputs": [
    {
     "data": {
      "text/plain": [
       "['value1', 'value2']"
      ]
     },
     "execution_count": 13,
     "metadata": {},
     "output_type": "execute_result"
    }
   ],
   "source": [
    "a[-1][2]"
   ]
  },
  {
   "cell_type": "code",
   "execution_count": 15,
   "id": "831c1224",
   "metadata": {},
   "outputs": [
    {
     "data": {
      "text/plain": [
       "'value2'"
      ]
     },
     "execution_count": 15,
     "metadata": {},
     "output_type": "execute_result"
    }
   ],
   "source": [
    "a[-1][2][1]"
   ]
  },
  {
   "cell_type": "code",
   "execution_count": 28,
   "id": "86e9fc77",
   "metadata": {},
   "outputs": [
    {
     "name": "stdout",
     "output_type": "stream",
     "text": [
      "[1, 2, 3, 4, ['value1_a', 'value2_a', ['value1', 99]]]\n"
     ]
    }
   ],
   "source": [
    "a[-1][2][1] = 99 #replacing the element\n",
    "print(a)"
   ]
  },
  {
   "cell_type": "code",
   "execution_count": 21,
   "id": "e192e5d8",
   "metadata": {},
   "outputs": [],
   "source": [
    "# list[]\n",
    "# Indexing []\n",
    "# Tuple ()\n",
    "# Sets {}\n",
    "# Dictionary {}"
   ]
  },
  {
   "cell_type": "raw",
   "id": "67ba0b47",
   "metadata": {},
   "source": [
    "Nesting of Lists"
   ]
  },
  {
   "cell_type": "code",
   "execution_count": 29,
   "id": "4a44ca05",
   "metadata": {},
   "outputs": [
    {
     "name": "stdout",
     "output_type": "stream",
     "text": [
      "[[1, 2, 3], [4, 5, 6], [7, 8, 9]]\n"
     ]
    }
   ],
   "source": [
    "l1=[1,2,3]\n",
    "l2=[4,5,6]\n",
    "l3=[7,8,9]\n",
    "matrix = [l1,l2,l3] # lists inside a list\n",
    "print(matrix)"
   ]
  },
  {
   "cell_type": "code",
   "execution_count": 30,
   "id": "c469ac11",
   "metadata": {},
   "outputs": [],
   "source": [
    "a.reverse()"
   ]
  },
  {
   "cell_type": "code",
   "execution_count": 31,
   "id": "d16d8ca7",
   "metadata": {},
   "outputs": [
    {
     "data": {
      "text/plain": [
       "[['value1_a', 'value2_a', ['value1', 99]], 4, 3, 2, 1]"
      ]
     },
     "execution_count": 31,
     "metadata": {},
     "output_type": "execute_result"
    }
   ],
   "source": [
    "a\n"
   ]
  },
  {
   "cell_type": "code",
   "execution_count": 33,
   "id": "c78b991d",
   "metadata": {},
   "outputs": [
    {
     "ename": "TypeError",
     "evalue": "'<' not supported between instances of 'int' and 'list'",
     "output_type": "error",
     "traceback": [
      "\u001b[1;31m---------------------------------------------------------------------------\u001b[0m",
      "\u001b[1;31mTypeError\u001b[0m                                 Traceback (most recent call last)",
      "Input \u001b[1;32mIn [33]\u001b[0m, in \u001b[0;36m<cell line: 1>\u001b[1;34m()\u001b[0m\n\u001b[1;32m----> 1\u001b[0m \u001b[43ma\u001b[49m\u001b[38;5;241;43m.\u001b[39;49m\u001b[43msort\u001b[49m\u001b[43m(\u001b[49m\u001b[43m)\u001b[49m\n",
      "\u001b[1;31mTypeError\u001b[0m: '<' not supported between instances of 'int' and 'list'"
     ]
    }
   ],
   "source": [
    "a.sort()"
   ]
  },
  {
   "cell_type": "code",
   "execution_count": 37,
   "id": "e2887a00",
   "metadata": {},
   "outputs": [
    {
     "data": {
      "text/plain": [
       "['b', 'c', 'd', 'x', 'y', 'm']"
      ]
     },
     "execution_count": 37,
     "metadata": {},
     "output_type": "execute_result"
    }
   ],
   "source": [
    "l4 = ['b','c','d','x','y','m']\n",
    "l4\n"
   ]
  },
  {
   "cell_type": "code",
   "execution_count": 38,
   "id": "0abc726f",
   "metadata": {},
   "outputs": [],
   "source": [
    "l4.sort(reverse=True)"
   ]
  },
  {
   "cell_type": "code",
   "execution_count": 39,
   "id": "11a5567a",
   "metadata": {},
   "outputs": [
    {
     "data": {
      "text/plain": [
       "['y', 'x', 'm', 'd', 'c', 'b']"
      ]
     },
     "execution_count": 39,
     "metadata": {},
     "output_type": "execute_result"
    }
   ],
   "source": [
    "l4"
   ]
  },
  {
   "cell_type": "code",
   "execution_count": 40,
   "id": "bc144d66",
   "metadata": {},
   "outputs": [
    {
     "data": {
      "text/plain": [
       "['b', 'c', 'd', 'm', 'x', 'y']"
      ]
     },
     "execution_count": 40,
     "metadata": {},
     "output_type": "execute_result"
    }
   ],
   "source": [
    "l4.sort(reverse=False)\n",
    "l4"
   ]
  },
  {
   "cell_type": "markdown",
   "id": "d0e47a8b",
   "metadata": {},
   "source": [
    "# Dictionaries"
   ]
  },
  {
   "cell_type": "raw",
   "id": "031bcfa1",
   "metadata": {},
   "source": [
    "There is a huge Flexibility on the different data types which a dictionary can hold. Use \"Keys\" to navifate within dictionary elements. "
   ]
  },
  {
   "cell_type": "code",
   "execution_count": 41,
   "id": "bbd5e280",
   "metadata": {},
   "outputs": [],
   "source": [
    "my_dict = {'key1':123,'key2':[22,33,44],'key3':['val1','val2','val3']}"
   ]
  },
  {
   "cell_type": "code",
   "execution_count": 42,
   "id": "9edcacba",
   "metadata": {},
   "outputs": [
    {
     "data": {
      "text/plain": [
       "{'key1': 123, 'key2': [22, 33, 44], 'key3': ['val1', 'val2', 'val3']}"
      ]
     },
     "execution_count": 42,
     "metadata": {},
     "output_type": "execute_result"
    }
   ],
   "source": [
    "my_dict"
   ]
  },
  {
   "cell_type": "code",
   "execution_count": 43,
   "id": "80ff35e7",
   "metadata": {},
   "outputs": [
    {
     "data": {
      "text/plain": [
       "123"
      ]
     },
     "execution_count": 43,
     "metadata": {},
     "output_type": "execute_result"
    }
   ],
   "source": [
    "my_dict['key1']"
   ]
  },
  {
   "cell_type": "code",
   "execution_count": 44,
   "id": "e44287d0",
   "metadata": {},
   "outputs": [
    {
     "data": {
      "text/plain": [
       "'val1'"
      ]
     },
     "execution_count": 44,
     "metadata": {},
     "output_type": "execute_result"
    }
   ],
   "source": [
    "my_dict['key3'][0]"
   ]
  },
  {
   "cell_type": "code",
   "execution_count": 45,
   "id": "16e1dd6d",
   "metadata": {},
   "outputs": [
    {
     "data": {
      "text/plain": [
       "39360"
      ]
     },
     "execution_count": 45,
     "metadata": {},
     "output_type": "execute_result"
    }
   ],
   "source": [
    "my_dict['key1'] * 320"
   ]
  },
  {
   "cell_type": "code",
   "execution_count": 46,
   "id": "86b79931",
   "metadata": {},
   "outputs": [],
   "source": [
    "#Changing values in a dictionary\n",
    "my_dict['key1'] = my_dict['key1'] - 123"
   ]
  },
  {
   "cell_type": "code",
   "execution_count": 47,
   "id": "6b0c31bf",
   "metadata": {},
   "outputs": [
    {
     "data": {
      "text/plain": [
       "{'key1': 0, 'key2': [22, 33, 44], 'key3': ['val1', 'val2', 'val3']}"
      ]
     },
     "execution_count": 47,
     "metadata": {},
     "output_type": "execute_result"
    }
   ],
   "source": [
    "my_dict"
   ]
  },
  {
   "cell_type": "code",
   "execution_count": 50,
   "id": "bec1d676",
   "metadata": {},
   "outputs": [
    {
     "data": {
      "text/plain": [
       "'VAL3'"
      ]
     },
     "execution_count": 50,
     "metadata": {},
     "output_type": "execute_result"
    }
   ],
   "source": [
    "my_dict['key3'][2].upper()"
   ]
  },
  {
   "cell_type": "code",
   "execution_count": 55,
   "id": "4256d64b",
   "metadata": {},
   "outputs": [],
   "source": [
    "d1 = {} #creating an empty dictionary"
   ]
  },
  {
   "cell_type": "code",
   "execution_count": 56,
   "id": "f208e782",
   "metadata": {},
   "outputs": [],
   "source": [
    "d1['key1'] = 'indra1' #adding keys along with their content in a dictionary"
   ]
  },
  {
   "cell_type": "code",
   "execution_count": 57,
   "id": "3b1a35c7",
   "metadata": {},
   "outputs": [],
   "source": [
    "d1['key2'] = 'indra2'\n",
    "d1['key3'] = [22,33,44]"
   ]
  },
  {
   "cell_type": "code",
   "execution_count": 58,
   "id": "50dbf1ed",
   "metadata": {},
   "outputs": [
    {
     "data": {
      "text/plain": [
       "{'key1': 'indra1', 'key2': 'indra2', 'key3': [22, 33, 44]}"
      ]
     },
     "execution_count": 58,
     "metadata": {},
     "output_type": "execute_result"
    }
   ],
   "source": [
    "d1"
   ]
  },
  {
   "cell_type": "markdown",
   "id": "280371ed",
   "metadata": {},
   "source": [
    "# Nested Dictionary"
   ]
  },
  {
   "cell_type": "code",
   "execution_count": 59,
   "id": "769876a0",
   "metadata": {},
   "outputs": [],
   "source": [
    "d2 = {'key1':{'nkey2':{'nkey3': 'value1'}}} #key inside a key, which is itself inside a key"
   ]
  },
  {
   "cell_type": "code",
   "execution_count": 61,
   "id": "dfc84c45",
   "metadata": {},
   "outputs": [
    {
     "data": {
      "text/plain": [
       "{'nkey2': {'nkey3': 'value1'}}"
      ]
     },
     "execution_count": 61,
     "metadata": {},
     "output_type": "execute_result"
    }
   ],
   "source": [
    "d2['key1']"
   ]
  },
  {
   "cell_type": "code",
   "execution_count": 64,
   "id": "c6b2ac68",
   "metadata": {},
   "outputs": [
    {
     "data": {
      "text/plain": [
       "{'nkey3': 'value1'}"
      ]
     },
     "execution_count": 64,
     "metadata": {},
     "output_type": "execute_result"
    }
   ],
   "source": [
    "d2['key1']['nkey2']"
   ]
  },
  {
   "cell_type": "code",
   "execution_count": 66,
   "id": "880a75e4",
   "metadata": {},
   "outputs": [
    {
     "data": {
      "text/plain": [
       "'value1'"
      ]
     },
     "execution_count": 66,
     "metadata": {},
     "output_type": "execute_result"
    }
   ],
   "source": [
    "d2['key1']['nkey2']['nkey3']"
   ]
  },
  {
   "cell_type": "markdown",
   "id": "570a1271",
   "metadata": {},
   "source": [
    "# String Formatting"
   ]
  },
  {
   "cell_type": "code",
   "execution_count": 72,
   "id": "718baf12",
   "metadata": {},
   "outputs": [
    {
     "name": "stdout",
     "output_type": "stream",
     "text": [
      "I am going to inject something here\n"
     ]
    }
   ],
   "source": [
    "print(\"I am going to inject %s here\" %'something')"
   ]
  },
  {
   "cell_type": "code",
   "execution_count": 76,
   "id": "44075557",
   "metadata": {},
   "outputs": [
    {
     "name": "stdout",
     "output_type": "stream",
     "text": [
      "I am going to inject some content and some fun here as well.\n"
     ]
    }
   ],
   "source": [
    "print(\"I am going to inject some %s and some %s here as well.\" %('content','fun'))"
   ]
  },
  {
   "cell_type": "code",
   "execution_count": 77,
   "id": "2542fa9d",
   "metadata": {},
   "outputs": [
    {
     "name": "stdout",
     "output_type": "stream",
     "text": [
      "I am going to inject some fun and some content here as well.\n"
     ]
    }
   ],
   "source": [
    "x='content'\n",
    "y='fun'\n",
    "print(\"I am going to inject some %s and some %s here as well.\" %(y,x))"
   ]
  },
  {
   "cell_type": "code",
   "execution_count": 78,
   "id": "b0b48a88",
   "metadata": {},
   "outputs": [
    {
     "name": "stdout",
     "output_type": "stream",
     "text": [
      "I am going to get three oranges\n",
      "I am goinf to get 'three' oranges\n"
     ]
    }
   ],
   "source": [
    "print(\"I am going to get %s oranges\" %'three')\n",
    "print(\"I am going to get %r oranges\" %'three') ## %r : basically converts it to an individual object"
   ]
  },
  {
   "cell_type": "code",
   "execution_count": 79,
   "id": "38ebd164",
   "metadata": {},
   "outputs": [
    {
     "name": "stdout",
     "output_type": "stream",
     "text": [
      "I am going to get 3.75 oranges\n",
      "I am going to get 3 oranges\n"
     ]
    }
   ],
   "source": [
    "print(\"I am going to get %s oranges\" %3.75)\n",
    "print(\"I am going to get %d oranges\" %3.75) # %d: converts it to an integer"
   ]
  },
  {
   "cell_type": "code",
   "execution_count": null,
   "id": "bdf50657",
   "metadata": {},
   "outputs": [],
   "source": [
    "my_list = [1, 5, 4, 6, 8, 11, 3, 12]\n",
    "new_list = list(filter(lambda x: (x%2 == 0) , my_list))"
   ]
  }
 ],
 "metadata": {
  "kernelspec": {
   "display_name": "Python 3 (ipykernel)",
   "language": "python",
   "name": "python3"
  },
  "language_info": {
   "codemirror_mode": {
    "name": "ipython",
    "version": 3
   },
   "file_extension": ".py",
   "mimetype": "text/x-python",
   "name": "python",
   "nbconvert_exporter": "python",
   "pygments_lexer": "ipython3",
   "version": "3.9.12"
  }
 },
 "nbformat": 4,
 "nbformat_minor": 5
}
